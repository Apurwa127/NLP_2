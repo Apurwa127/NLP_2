{
  "cells": [
    {
      "cell_type": "markdown",
      "metadata": {
        "id": "view-in-github",
        "colab_type": "text"
      },
      "source": [
        "<a href=\"https://colab.research.google.com/github/Apurwa127/NLP_2/blob/main/Spacy.ipynb\" target=\"_parent\"><img src=\"https://colab.research.google.com/assets/colab-badge.svg\" alt=\"Open In Colab\"/></a>"
      ]
    },
    {
      "cell_type": "code",
      "source": [
        "!pip install nltk\n",
        "!pip install spacy"
      ],
      "metadata": {
        "id": "Ol6PBGHTbigq",
        "colab": {
          "base_uri": "https://localhost:8080/"
        },
        "outputId": "21b1cc2d-ae37-44c3-ce13-ff334db1712c"
      },
      "execution_count": null,
      "outputs": [
        {
          "output_type": "stream",
          "name": "stdout",
          "text": [
            "Requirement already satisfied: nltk in /usr/local/lib/python3.11/dist-packages (3.9.1)\n",
            "Requirement already satisfied: click in /usr/local/lib/python3.11/dist-packages (from nltk) (8.1.8)\n",
            "Requirement already satisfied: joblib in /usr/local/lib/python3.11/dist-packages (from nltk) (1.4.2)\n",
            "Requirement already satisfied: regex>=2021.8.3 in /usr/local/lib/python3.11/dist-packages (from nltk) (2024.11.6)\n",
            "Requirement already satisfied: tqdm in /usr/local/lib/python3.11/dist-packages (from nltk) (4.67.1)\n",
            "Requirement already satisfied: spacy in /usr/local/lib/python3.11/dist-packages (3.8.4)\n",
            "Requirement already satisfied: spacy-legacy<3.1.0,>=3.0.11 in /usr/local/lib/python3.11/dist-packages (from spacy) (3.0.12)\n",
            "Requirement already satisfied: spacy-loggers<2.0.0,>=1.0.0 in /usr/local/lib/python3.11/dist-packages (from spacy) (1.0.5)\n",
            "Requirement already satisfied: murmurhash<1.1.0,>=0.28.0 in /usr/local/lib/python3.11/dist-packages (from spacy) (1.0.12)\n",
            "Requirement already satisfied: cymem<2.1.0,>=2.0.2 in /usr/local/lib/python3.11/dist-packages (from spacy) (2.0.11)\n",
            "Requirement already satisfied: preshed<3.1.0,>=3.0.2 in /usr/local/lib/python3.11/dist-packages (from spacy) (3.0.9)\n",
            "Requirement already satisfied: thinc<8.4.0,>=8.3.4 in /usr/local/lib/python3.11/dist-packages (from spacy) (8.3.4)\n",
            "Requirement already satisfied: wasabi<1.2.0,>=0.9.1 in /usr/local/lib/python3.11/dist-packages (from spacy) (1.1.3)\n",
            "Requirement already satisfied: srsly<3.0.0,>=2.4.3 in /usr/local/lib/python3.11/dist-packages (from spacy) (2.5.1)\n",
            "Requirement already satisfied: catalogue<2.1.0,>=2.0.6 in /usr/local/lib/python3.11/dist-packages (from spacy) (2.0.10)\n",
            "Requirement already satisfied: weasel<0.5.0,>=0.1.0 in /usr/local/lib/python3.11/dist-packages (from spacy) (0.4.1)\n",
            "Requirement already satisfied: typer<1.0.0,>=0.3.0 in /usr/local/lib/python3.11/dist-packages (from spacy) (0.15.2)\n",
            "Requirement already satisfied: tqdm<5.0.0,>=4.38.0 in /usr/local/lib/python3.11/dist-packages (from spacy) (4.67.1)\n",
            "Requirement already satisfied: numpy>=1.19.0 in /usr/local/lib/python3.11/dist-packages (from spacy) (2.0.2)\n",
            "Requirement already satisfied: requests<3.0.0,>=2.13.0 in /usr/local/lib/python3.11/dist-packages (from spacy) (2.32.3)\n",
            "Requirement already satisfied: pydantic!=1.8,!=1.8.1,<3.0.0,>=1.7.4 in /usr/local/lib/python3.11/dist-packages (from spacy) (2.10.6)\n",
            "Requirement already satisfied: jinja2 in /usr/local/lib/python3.11/dist-packages (from spacy) (3.1.6)\n",
            "Requirement already satisfied: setuptools in /usr/local/lib/python3.11/dist-packages (from spacy) (75.1.0)\n",
            "Requirement already satisfied: packaging>=20.0 in /usr/local/lib/python3.11/dist-packages (from spacy) (24.2)\n",
            "Requirement already satisfied: langcodes<4.0.0,>=3.2.0 in /usr/local/lib/python3.11/dist-packages (from spacy) (3.5.0)\n",
            "Requirement already satisfied: language-data>=1.2 in /usr/local/lib/python3.11/dist-packages (from langcodes<4.0.0,>=3.2.0->spacy) (1.3.0)\n",
            "Requirement already satisfied: annotated-types>=0.6.0 in /usr/local/lib/python3.11/dist-packages (from pydantic!=1.8,!=1.8.1,<3.0.0,>=1.7.4->spacy) (0.7.0)\n",
            "Requirement already satisfied: pydantic-core==2.27.2 in /usr/local/lib/python3.11/dist-packages (from pydantic!=1.8,!=1.8.1,<3.0.0,>=1.7.4->spacy) (2.27.2)\n",
            "Requirement already satisfied: typing-extensions>=4.12.2 in /usr/local/lib/python3.11/dist-packages (from pydantic!=1.8,!=1.8.1,<3.0.0,>=1.7.4->spacy) (4.12.2)\n",
            "Requirement already satisfied: charset-normalizer<4,>=2 in /usr/local/lib/python3.11/dist-packages (from requests<3.0.0,>=2.13.0->spacy) (3.4.1)\n",
            "Requirement already satisfied: idna<4,>=2.5 in /usr/local/lib/python3.11/dist-packages (from requests<3.0.0,>=2.13.0->spacy) (3.10)\n",
            "Requirement already satisfied: urllib3<3,>=1.21.1 in /usr/local/lib/python3.11/dist-packages (from requests<3.0.0,>=2.13.0->spacy) (2.3.0)\n",
            "Requirement already satisfied: certifi>=2017.4.17 in /usr/local/lib/python3.11/dist-packages (from requests<3.0.0,>=2.13.0->spacy) (2025.1.31)\n",
            "Requirement already satisfied: blis<1.3.0,>=1.2.0 in /usr/local/lib/python3.11/dist-packages (from thinc<8.4.0,>=8.3.4->spacy) (1.2.0)\n",
            "Requirement already satisfied: confection<1.0.0,>=0.0.1 in /usr/local/lib/python3.11/dist-packages (from thinc<8.4.0,>=8.3.4->spacy) (0.1.5)\n",
            "Requirement already satisfied: click>=8.0.0 in /usr/local/lib/python3.11/dist-packages (from typer<1.0.0,>=0.3.0->spacy) (8.1.8)\n",
            "Requirement already satisfied: shellingham>=1.3.0 in /usr/local/lib/python3.11/dist-packages (from typer<1.0.0,>=0.3.0->spacy) (1.5.4)\n",
            "Requirement already satisfied: rich>=10.11.0 in /usr/local/lib/python3.11/dist-packages (from typer<1.0.0,>=0.3.0->spacy) (13.9.4)\n",
            "Requirement already satisfied: cloudpathlib<1.0.0,>=0.7.0 in /usr/local/lib/python3.11/dist-packages (from weasel<0.5.0,>=0.1.0->spacy) (0.21.0)\n",
            "Requirement already satisfied: smart-open<8.0.0,>=5.2.1 in /usr/local/lib/python3.11/dist-packages (from weasel<0.5.0,>=0.1.0->spacy) (7.1.0)\n",
            "Requirement already satisfied: MarkupSafe>=2.0 in /usr/local/lib/python3.11/dist-packages (from jinja2->spacy) (3.0.2)\n",
            "Requirement already satisfied: marisa-trie>=1.1.0 in /usr/local/lib/python3.11/dist-packages (from language-data>=1.2->langcodes<4.0.0,>=3.2.0->spacy) (1.2.1)\n",
            "Requirement already satisfied: markdown-it-py>=2.2.0 in /usr/local/lib/python3.11/dist-packages (from rich>=10.11.0->typer<1.0.0,>=0.3.0->spacy) (3.0.0)\n",
            "Requirement already satisfied: pygments<3.0.0,>=2.13.0 in /usr/local/lib/python3.11/dist-packages (from rich>=10.11.0->typer<1.0.0,>=0.3.0->spacy) (2.18.0)\n",
            "Requirement already satisfied: wrapt in /usr/local/lib/python3.11/dist-packages (from smart-open<8.0.0,>=5.2.1->weasel<0.5.0,>=0.1.0->spacy) (1.17.2)\n",
            "Requirement already satisfied: mdurl~=0.1 in /usr/local/lib/python3.11/dist-packages (from markdown-it-py>=2.2.0->rich>=10.11.0->typer<1.0.0,>=0.3.0->spacy) (0.1.2)\n"
          ]
        }
      ]
    },
    {
      "cell_type": "code",
      "source": [
        "import spacy\n",
        "import nltk\n",
        "load = spacy.load('en_core_web_sm')\n",
        "text = \"Barack Hussein Obama II[a] (born August 4, 1961) is an American politician who was the 44th president of the United States from 2009 to 2017. He was born in Hawaii\"\n",
        "output = load(text)\n",
        "for tokenization in output:\n",
        "  print(tokenization)"
      ],
      "metadata": {
        "colab": {
          "base_uri": "https://localhost:8080/"
        },
        "id": "XbloVZ_wbYql",
        "outputId": "febae4f5-f6a1-4494-d4cf-0b3dd76be9b1"
      },
      "execution_count": null,
      "outputs": [
        {
          "output_type": "stream",
          "name": "stdout",
          "text": [
            "Barack\n",
            "Hussein\n",
            "Obama\n",
            "II[a\n",
            "]\n",
            "(\n",
            "born\n",
            "August\n",
            "4\n",
            ",\n",
            "1961\n",
            ")\n",
            "is\n",
            "an\n",
            "American\n",
            "politician\n",
            "who\n",
            "was\n",
            "the\n",
            "44th\n",
            "president\n",
            "of\n",
            "the\n",
            "United\n",
            "States\n",
            "from\n",
            "2009\n",
            "to\n",
            "2017\n",
            ".\n",
            "He\n",
            "was\n",
            "born\n",
            "in\n",
            "Hawaii\n"
          ]
        }
      ]
    },
    {
      "cell_type": "code",
      "source": [
        "for sent in output.sents:\n",
        "  print(sent)"
      ],
      "metadata": {
        "colab": {
          "base_uri": "https://localhost:8080/"
        },
        "id": "7iNJkJR-cFY9",
        "outputId": "bc7f4cbf-9c90-4596-c71e-3285f1e3a165"
      },
      "execution_count": null,
      "outputs": [
        {
          "output_type": "stream",
          "name": "stdout",
          "text": [
            "Barack Hussein Obama II[a] (born August 4, 1961) is an American politician who was the 44th president of the United States from 2009 to 2017.\n",
            "He was born in Hawaii\n"
          ]
        }
      ]
    },
    {
      "cell_type": "code",
      "source": [
        "text = \"Obama was born in Honolulu, Hawaii. He graduated from Columbia University in 1983 with a Bachelor of Arts degree in political science and later worked as a community organizer in Chicago. In 1988, Obama enrolled in Harvard Law School, where he was the first black president of the Harvard Law Review. He became a civil rights attorney and an academic, teaching constitutional law at the University of Chicago Law School from 1992 to 2004. In 1996, Obama was elected to represent the 13th district in the Illinois Senate, a position he held until 2004, when he successfully ran for the U.S. Senate. In the 2008 presidential election, after a close primary campaign against Hillary Clinton, he was nominated by the Democratic Party for president. Obama selected Joe Biden as his running mate and defeated Republican nominee John McCain and his running mate Sarah Palin.\"\n",
        "output = load(text)\n",
        "for pos in output:\n",
        "  print(pos.text,\":\", pos.pos_)\n"
      ],
      "metadata": {
        "colab": {
          "base_uri": "https://localhost:8080/"
        },
        "id": "44XxQr0rdE4R",
        "outputId": "41db9a82-b0bb-49bf-af08-c9a66d83ab7d"
      },
      "execution_count": null,
      "outputs": [
        {
          "output_type": "stream",
          "name": "stdout",
          "text": [
            "Obama : PROPN\n",
            "was : AUX\n",
            "born : VERB\n",
            "in : ADP\n",
            "Honolulu : PROPN\n",
            ", : PUNCT\n",
            "Hawaii : PROPN\n",
            ". : PUNCT\n",
            "He : PRON\n",
            "graduated : VERB\n",
            "from : ADP\n",
            "Columbia : PROPN\n",
            "University : PROPN\n",
            "in : ADP\n",
            "1983 : NUM\n",
            "with : ADP\n",
            "a : DET\n",
            "Bachelor : PROPN\n",
            "of : ADP\n",
            "Arts : PROPN\n",
            "degree : NOUN\n",
            "in : ADP\n",
            "political : ADJ\n",
            "science : NOUN\n",
            "and : CCONJ\n",
            "later : ADV\n",
            "worked : VERB\n",
            "as : ADP\n",
            "a : DET\n",
            "community : NOUN\n",
            "organizer : NOUN\n",
            "in : ADP\n",
            "Chicago : PROPN\n",
            ". : PUNCT\n",
            "In : ADP\n",
            "1988 : NUM\n",
            ", : PUNCT\n",
            "Obama : PROPN\n",
            "enrolled : VERB\n",
            "in : ADP\n",
            "Harvard : PROPN\n",
            "Law : PROPN\n",
            "School : PROPN\n",
            ", : PUNCT\n",
            "where : SCONJ\n",
            "he : PRON\n",
            "was : AUX\n",
            "the : DET\n",
            "first : ADJ\n",
            "black : ADJ\n",
            "president : NOUN\n",
            "of : ADP\n",
            "the : DET\n",
            "Harvard : PROPN\n",
            "Law : PROPN\n",
            "Review : PROPN\n",
            ". : PUNCT\n",
            "He : PRON\n",
            "became : VERB\n",
            "a : DET\n",
            "civil : ADJ\n",
            "rights : NOUN\n",
            "attorney : NOUN\n",
            "and : CCONJ\n",
            "an : DET\n",
            "academic : ADJ\n",
            ", : PUNCT\n",
            "teaching : VERB\n",
            "constitutional : ADJ\n",
            "law : NOUN\n",
            "at : ADP\n",
            "the : DET\n",
            "University : PROPN\n",
            "of : ADP\n",
            "Chicago : PROPN\n",
            "Law : PROPN\n",
            "School : PROPN\n",
            "from : ADP\n",
            "1992 : NUM\n",
            "to : ADP\n",
            "2004 : NUM\n",
            ". : PUNCT\n",
            "In : ADP\n",
            "1996 : NUM\n",
            ", : PUNCT\n",
            "Obama : PROPN\n",
            "was : AUX\n",
            "elected : VERB\n",
            "to : PART\n",
            "represent : VERB\n",
            "the : DET\n",
            "13th : ADJ\n",
            "district : NOUN\n",
            "in : ADP\n",
            "the : DET\n",
            "Illinois : PROPN\n",
            "Senate : PROPN\n",
            ", : PUNCT\n",
            "a : DET\n",
            "position : NOUN\n",
            "he : PRON\n",
            "held : VERB\n",
            "until : ADP\n",
            "2004 : NUM\n",
            ", : PUNCT\n",
            "when : SCONJ\n",
            "he : PRON\n",
            "successfully : ADV\n",
            "ran : VERB\n",
            "for : ADP\n",
            "the : DET\n",
            "U.S. : PROPN\n",
            "Senate : PROPN\n",
            ". : PUNCT\n",
            "In : ADP\n",
            "the : DET\n",
            "2008 : NUM\n",
            "presidential : ADJ\n",
            "election : NOUN\n",
            ", : PUNCT\n",
            "after : ADP\n",
            "a : DET\n",
            "close : ADJ\n",
            "primary : ADJ\n",
            "campaign : NOUN\n",
            "against : ADP\n",
            "Hillary : PROPN\n",
            "Clinton : PROPN\n",
            ", : PUNCT\n",
            "he : PRON\n",
            "was : AUX\n",
            "nominated : VERB\n",
            "by : ADP\n",
            "the : DET\n",
            "Democratic : PROPN\n",
            "Party : PROPN\n",
            "for : ADP\n",
            "president : NOUN\n",
            ". : PUNCT\n",
            "Obama : PROPN\n",
            "selected : VERB\n",
            "Joe : PROPN\n",
            "Biden : PROPN\n",
            "as : ADP\n",
            "his : PRON\n",
            "running : NOUN\n",
            "mate : NOUN\n",
            "and : CCONJ\n",
            "defeated : VERB\n",
            "Republican : ADJ\n",
            "nominee : NOUN\n",
            "John : PROPN\n",
            "McCain : PROPN\n",
            "and : CCONJ\n",
            "his : PRON\n",
            "running : NOUN\n",
            "mate : NOUN\n",
            "Sarah : PROPN\n",
            "Palin : PROPN\n",
            ". : PUNCT\n"
          ]
        }
      ]
    },
    {
      "cell_type": "code",
      "source": [
        "text = \"Obama was born in Honolulu, Hawaii. He graduated from Columbia University in 1983 with a Bachelor of Arts degree in political science and later worked as a community organizer in Chicago. In 1988, Obama enrolled in Harvard Law School, where he was the first black president of the Harvard Law Review. He became a civil rights attorney and an academic, teaching constitutional law at the University of Chicago Law School from 1992 to 2004. In 1996, Obama was elected to represent the 13th district in the Illinois Senate, a position he held until 2004, when he successfully ran for the U.S. Senate. In the 2008 presidential election, after a close primary campaign against Hillary Clinton, he was nominated by the Democratic Party for president. Obama selected Joe Biden as his running mate and defeated Republican nominee John McCain and his running mate Sarah Palin.\"\n",
        "output = load(text)\n",
        "for entity in output.ents:\n",
        "  print(entity.text,\":\", entity.label_)"
      ],
      "metadata": {
        "colab": {
          "base_uri": "https://localhost:8080/"
        },
        "id": "GafaR54Ldtb4",
        "outputId": "ea66c9fe-bcc6-4938-9f04-87b9009333fa"
      },
      "execution_count": null,
      "outputs": [
        {
          "output_type": "stream",
          "name": "stdout",
          "text": [
            "Obama : PERSON\n",
            "Honolulu : GPE\n",
            "Hawaii : GPE\n",
            "Columbia University : ORG\n",
            "1983 : DATE\n",
            "Chicago : GPE\n",
            "1988 : DATE\n",
            "Obama : PERSON\n",
            "Harvard Law School : ORG\n",
            "first : ORDINAL\n",
            "the Harvard Law Review : ORG\n",
            "the University of Chicago Law School : ORG\n",
            "1992 : DATE\n",
            "2004 : DATE\n",
            "1996 : DATE\n",
            "Obama : PERSON\n",
            "13th : ORDINAL\n",
            "the Illinois Senate : FAC\n",
            "2004 : DATE\n",
            "the U.S. Senate : ORG\n",
            "2008 : DATE\n",
            "Hillary Clinton : PERSON\n",
            "the Democratic Party : ORG\n",
            "Obama : PERSON\n",
            "Joe Biden : PERSON\n",
            "Republican : NORP\n",
            "John McCain : PERSON\n",
            "Sarah Palin : PERSON\n"
          ]
        }
      ]
    },
    {
      "cell_type": "code",
      "source": [
        "text = \"Obama was born in Honolulu, Hawaii. He graduated from Columbia University in 1983 with a Bachelor of Arts degree in political science and later worked as a community organizer in Chicago. In 1988, Obama enrolled in Harvard Law School, where he was the first black president of the Harvard Law Review. He became a civil rights attorney and an academic, teaching constitutional law at the University of Chicago Law School from 1992 to 2004. In 1996, Obama was elected to represent the 13th district in the Illinois Senate, a position he held until 2004, when he successfully ran for the U.S. Senate. In the 2008 presidential election, after a close primary campaign against Hillary Clinton, he was nominated by the Democratic Party for president. Obama selected Joe Biden as his running mate and defeated Republican nominee John McCain and his running mate Sarah Palin.\"\n",
        "output = load(text)\n",
        "for name in output:\n",
        "  print(name.text, \":\", name.lemma_)"
      ],
      "metadata": {
        "colab": {
          "base_uri": "https://localhost:8080/"
        },
        "id": "VYxDM84_enPu",
        "outputId": "ddd1fda6-afc2-4916-9b5f-ea8716c7b2fe"
      },
      "execution_count": null,
      "outputs": [
        {
          "output_type": "stream",
          "name": "stdout",
          "text": [
            "Obama : Obama\n",
            "was : be\n",
            "born : bear\n",
            "in : in\n",
            "Honolulu : Honolulu\n",
            ", : ,\n",
            "Hawaii : Hawaii\n",
            ". : .\n",
            "He : he\n",
            "graduated : graduate\n",
            "from : from\n",
            "Columbia : Columbia\n",
            "University : University\n",
            "in : in\n",
            "1983 : 1983\n",
            "with : with\n",
            "a : a\n",
            "Bachelor : Bachelor\n",
            "of : of\n",
            "Arts : Arts\n",
            "degree : degree\n",
            "in : in\n",
            "political : political\n",
            "science : science\n",
            "and : and\n",
            "later : later\n",
            "worked : work\n",
            "as : as\n",
            "a : a\n",
            "community : community\n",
            "organizer : organizer\n",
            "in : in\n",
            "Chicago : Chicago\n",
            ". : .\n",
            "In : in\n",
            "1988 : 1988\n",
            ", : ,\n",
            "Obama : Obama\n",
            "enrolled : enrol\n",
            "in : in\n",
            "Harvard : Harvard\n",
            "Law : Law\n",
            "School : School\n",
            ", : ,\n",
            "where : where\n",
            "he : he\n",
            "was : be\n",
            "the : the\n",
            "first : first\n",
            "black : black\n",
            "president : president\n",
            "of : of\n",
            "the : the\n",
            "Harvard : Harvard\n",
            "Law : Law\n",
            "Review : Review\n",
            ". : .\n",
            "He : he\n",
            "became : become\n",
            "a : a\n",
            "civil : civil\n",
            "rights : right\n",
            "attorney : attorney\n",
            "and : and\n",
            "an : an\n",
            "academic : academic\n",
            ", : ,\n",
            "teaching : teach\n",
            "constitutional : constitutional\n",
            "law : law\n",
            "at : at\n",
            "the : the\n",
            "University : University\n",
            "of : of\n",
            "Chicago : Chicago\n",
            "Law : Law\n",
            "School : School\n",
            "from : from\n",
            "1992 : 1992\n",
            "to : to\n",
            "2004 : 2004\n",
            ". : .\n",
            "In : in\n",
            "1996 : 1996\n",
            ", : ,\n",
            "Obama : Obama\n",
            "was : be\n",
            "elected : elect\n",
            "to : to\n",
            "represent : represent\n",
            "the : the\n",
            "13th : 13th\n",
            "district : district\n",
            "in : in\n",
            "the : the\n",
            "Illinois : Illinois\n",
            "Senate : Senate\n",
            ", : ,\n",
            "a : a\n",
            "position : position\n",
            "he : he\n",
            "held : hold\n",
            "until : until\n",
            "2004 : 2004\n",
            ", : ,\n",
            "when : when\n",
            "he : he\n",
            "successfully : successfully\n",
            "ran : run\n",
            "for : for\n",
            "the : the\n",
            "U.S. : U.S.\n",
            "Senate : Senate\n",
            ". : .\n",
            "In : in\n",
            "the : the\n",
            "2008 : 2008\n",
            "presidential : presidential\n",
            "election : election\n",
            ", : ,\n",
            "after : after\n",
            "a : a\n",
            "close : close\n",
            "primary : primary\n",
            "campaign : campaign\n",
            "against : against\n",
            "Hillary : Hillary\n",
            "Clinton : Clinton\n",
            ", : ,\n",
            "he : he\n",
            "was : be\n",
            "nominated : nominate\n",
            "by : by\n",
            "the : the\n",
            "Democratic : Democratic\n",
            "Party : Party\n",
            "for : for\n",
            "president : president\n",
            ". : .\n",
            "Obama : Obama\n",
            "selected : select\n",
            "Joe : Joe\n",
            "Biden : Biden\n",
            "as : as\n",
            "his : his\n",
            "running : running\n",
            "mate : mate\n",
            "and : and\n",
            "defeated : defeat\n",
            "Republican : republican\n",
            "nominee : nominee\n",
            "John : John\n",
            "McCain : McCain\n",
            "and : and\n",
            "his : his\n",
            "running : running\n",
            "mate : mate\n",
            "Sarah : Sarah\n",
            "Palin : Palin\n",
            ". : .\n"
          ]
        }
      ]
    },
    {
      "cell_type": "code",
      "source": [
        "output = spacy.load(\"en_core_web_sm\")\n",
        "\n",
        "doc = output(\"Obama was born in Honolulu, Hawaii. He graduated from Columbia University in 1983 with a Bachelor of Arts degree in political science and later worked as a community organizer in Chicago. In 1988, Obama enrolled in Harvard Law School, where he was the first black president of the Harvard Law Review. He became a civil rights attorney and an academic, teaching constitutional law at the University of Chicago Law School from 1992 to 2004. In 1996, Obama was elected to represent the 13th district in the Illinois Senate, a position he held until 2004, when he successfully ran for the U.S. Senate. In the 2008 presidential election, after a close primary campaign against Hillary Clinton, he was nominated by the Democratic Party for president. Obama selected Joe Biden as his running mate and defeated Republican nominee John McCain and his running mate Sarah Palin.\")\n",
        "print( [token.text for token in doc[1:5]])\n",
        "\n"
      ],
      "metadata": {
        "colab": {
          "base_uri": "https://localhost:8080/"
        },
        "id": "DU3S-WHPfvHm",
        "outputId": "12c40442-080e-491d-cff7-99069a3e5211"
      },
      "execution_count": null,
      "outputs": [
        {
          "output_type": "stream",
          "name": "stdout",
          "text": [
            "['was', 'born', 'in', 'Honolulu']\n"
          ]
        }
      ]
    },
    {
      "cell_type": "code",
      "source": [
        "type(doc)"
      ],
      "metadata": {
        "colab": {
          "base_uri": "https://localhost:8080/"
        },
        "id": "yqy1IPJkkdgc",
        "outputId": "695236fc-7f68-4c26-dd3f-f0f1a62b4295"
      },
      "execution_count": null,
      "outputs": [
        {
          "output_type": "execute_result",
          "data": {
            "text/plain": [
              "spacy.tokens.doc.Doc"
            ]
          },
          "metadata": {},
          "execution_count": 42
        }
      ]
    },
    {
      "cell_type": "code",
      "source": [
        "dir(doc)\n"
      ],
      "metadata": {
        "colab": {
          "base_uri": "https://localhost:8080/"
        },
        "id": "rh0dMbDPkevs",
        "outputId": "d4b5a8ab-ad13-4357-dcff-40dd449cfb5d"
      },
      "execution_count": null,
      "outputs": [
        {
          "output_type": "execute_result",
          "data": {
            "text/plain": [
              "['_',\n",
              " '__bytes__',\n",
              " '__class__',\n",
              " '__delattr__',\n",
              " '__dir__',\n",
              " '__doc__',\n",
              " '__eq__',\n",
              " '__format__',\n",
              " '__ge__',\n",
              " '__getattribute__',\n",
              " '__getitem__',\n",
              " '__getstate__',\n",
              " '__gt__',\n",
              " '__hash__',\n",
              " '__init__',\n",
              " '__init_subclass__',\n",
              " '__iter__',\n",
              " '__le__',\n",
              " '__len__',\n",
              " '__lt__',\n",
              " '__ne__',\n",
              " '__new__',\n",
              " '__pyx_vtable__',\n",
              " '__reduce__',\n",
              " '__reduce_ex__',\n",
              " '__repr__',\n",
              " '__setattr__',\n",
              " '__setstate__',\n",
              " '__sizeof__',\n",
              " '__str__',\n",
              " '__subclasshook__',\n",
              " '__unicode__',\n",
              " '_bulk_merge',\n",
              " '_context',\n",
              " '_get_array_attrs',\n",
              " '_realloc',\n",
              " '_vector',\n",
              " '_vector_norm',\n",
              " 'cats',\n",
              " 'char_span',\n",
              " 'copy',\n",
              " 'count_by',\n",
              " 'doc',\n",
              " 'ents',\n",
              " 'extend_tensor',\n",
              " 'from_array',\n",
              " 'from_bytes',\n",
              " 'from_dict',\n",
              " 'from_disk',\n",
              " 'from_docs',\n",
              " 'from_json',\n",
              " 'get_extension',\n",
              " 'get_lca_matrix',\n",
              " 'has_annotation',\n",
              " 'has_extension',\n",
              " 'has_unknown_spaces',\n",
              " 'has_vector',\n",
              " 'is_nered',\n",
              " 'is_parsed',\n",
              " 'is_sentenced',\n",
              " 'is_tagged',\n",
              " 'lang',\n",
              " 'lang_',\n",
              " 'mem',\n",
              " 'noun_chunks',\n",
              " 'noun_chunks_iterator',\n",
              " 'remove_extension',\n",
              " 'retokenize',\n",
              " 'sentiment',\n",
              " 'sents',\n",
              " 'set_ents',\n",
              " 'set_extension',\n",
              " 'similarity',\n",
              " 'spans',\n",
              " 'tensor',\n",
              " 'text',\n",
              " 'text_with_ws',\n",
              " 'to_array',\n",
              " 'to_bytes',\n",
              " 'to_dict',\n",
              " 'to_disk',\n",
              " 'to_json',\n",
              " 'to_utf8_array',\n",
              " 'user_data',\n",
              " 'user_hooks',\n",
              " 'user_span_hooks',\n",
              " 'user_token_hooks',\n",
              " 'vector',\n",
              " 'vector_norm',\n",
              " 'vocab']"
            ]
          },
          "metadata": {},
          "execution_count": 57
        }
      ]
    },
    {
      "cell_type": "code",
      "source": [
        "with open (\"/content/drive/MyDrive/students.txt\") as f:\n",
        "  text = f.readlines()\n",
        "text"
      ],
      "metadata": {
        "colab": {
          "base_uri": "https://localhost:8080/"
        },
        "id": "iYK7Rv-Bp7C7",
        "outputId": "34771632-3f9d-49ea-d560-b4a69c37da5d"
      },
      "execution_count": null,
      "outputs": [
        {
          "output_type": "execute_result",
          "data": {
            "text/plain": [
              "['Dayton high school, 8th grade students information\\n',\n",
              " '==================================================\\n',\n",
              " '\\n',\n",
              " 'Name\\tbirth day   \\temail\\n',\n",
              " '-----\\t------------\\t------\\n',\n",
              " 'Virat   5 June, 1882    virat@kohli.com\\n',\n",
              " 'Maria\\t12 April, 2001  maria@sharapova.com\\n',\n",
              " 'Serena  24 June, 1998   serena@williams.com \\n',\n",
              " 'Joe      1 May, 1997    joe@root.com\\n',\n",
              " '\\n',\n",
              " '\\n',\n",
              " '\\n']"
            ]
          },
          "metadata": {},
          "execution_count": 17
        }
      ]
    },
    {
      "cell_type": "code",
      "source": [
        "text = ''.join(text)\n",
        "text"
      ],
      "metadata": {
        "id": "1dGvIdnT2WJc",
        "colab": {
          "base_uri": "https://localhost:8080/",
          "height": 70
        },
        "outputId": "3cfa4bec-5ed6-407e-e2bc-dba56277614c"
      },
      "execution_count": null,
      "outputs": [
        {
          "output_type": "execute_result",
          "data": {
            "text/plain": [
              "'Dayton high school, 8th grade students information\\n==================================================\\n\\nName\\tbirth day   \\temail\\n-----\\t------------\\t------\\nVirat   5 June, 1882    virat@kohli.com\\nMaria\\t12 April, 2001  maria@sharapova.com\\nSerena  24 June, 1998   serena@williams.com \\nJoe      1 May, 1997    joe@root.com\\n\\n\\n\\n'"
            ],
            "application/vnd.google.colaboratory.intrinsic+json": {
              "type": "string"
            }
          },
          "metadata": {},
          "execution_count": 18
        }
      ]
    },
    {
      "cell_type": "code",
      "source": [
        "import nltk\n",
        "import spacy\n",
        "\n",
        "nlp = spacy.load('en_core_web_sm')\n",
        "results=[]\n",
        "with open('/content/drive/MyDrive/students.txt') as f:\n",
        "  result = f.read()\n",
        "result\n",
        "\n",
        "doc = nlp(result)\n",
        "\n",
        "for email in doc:\n",
        "    if email.like_email:\n",
        "      results.append(email)\n",
        "results"
      ],
      "metadata": {
        "colab": {
          "base_uri": "https://localhost:8080/"
        },
        "id": "H5uGSgyG6Zkx",
        "outputId": "ab2aaeae-3211-4b2c-e581-37b726b18bb0"
      },
      "execution_count": null,
      "outputs": [
        {
          "output_type": "execute_result",
          "data": {
            "text/plain": [
              "[virat@kohli.com, maria@sharapova.com, serena@williams.com, joe@root.com]"
            ]
          },
          "metadata": {},
          "execution_count": 20
        }
      ]
    },
    {
      "cell_type": "code",
      "source": [
        "# dir(email)\n",
        "for name in doc:\n",
        "  if name.iob_strings:\n",
        "    results.append(name)\n",
        "results"
      ],
      "metadata": {
        "colab": {
          "base_uri": "https://localhost:8080/"
        },
        "id": "I4emFFry-UOv",
        "outputId": "5e503aca-317f-4602-b332-4613e2d59b5a"
      },
      "execution_count": null,
      "outputs": [
        {
          "output_type": "execute_result",
          "data": {
            "text/plain": [
              "[virat@kohli.com,\n",
              " maria@sharapova.com,\n",
              " serena@williams.com,\n",
              " joe@root.com,\n",
              " Dayton,\n",
              " high,\n",
              " school,\n",
              " ,,\n",
              " 8th,\n",
              " grade,\n",
              " students,\n",
              " information,\n",
              " ,\n",
              " =,\n",
              " =,\n",
              " =,\n",
              " =,\n",
              " =,\n",
              " =,\n",
              " =,\n",
              " =,\n",
              " =,\n",
              " =,\n",
              " =,\n",
              " =,\n",
              " =,\n",
              " =,\n",
              " =,\n",
              " =,\n",
              " =,\n",
              " =,\n",
              " =,\n",
              " =,\n",
              " =,\n",
              " =,\n",
              " =,\n",
              " =,\n",
              " =,\n",
              " =,\n",
              " =,\n",
              " =,\n",
              " =,\n",
              " =,\n",
              " =,\n",
              " =,\n",
              " =,\n",
              " =,\n",
              " =,\n",
              " =,\n",
              " =,\n",
              " =,\n",
              " =,\n",
              " =,\n",
              " =,\n",
              " =,\n",
              " =,\n",
              " =,\n",
              " =,\n",
              " =,\n",
              " =,\n",
              " =,\n",
              " =,\n",
              " =,\n",
              " \n",
              " ,\n",
              " Name,\n",
              " \t,\n",
              " birth,\n",
              " day,\n",
              "   \t,\n",
              " email,\n",
              " ,\n",
              " -----,\n",
              " \t,\n",
              " ------------,\n",
              " \t,\n",
              " ------,\n",
              " ,\n",
              " Virat,\n",
              "   ,\n",
              " 5,\n",
              " June,\n",
              " ,,\n",
              " 1882,\n",
              "    ,\n",
              " virat@kohli.com,\n",
              " ,\n",
              " Maria,\n",
              " \t,\n",
              " 12,\n",
              " April,\n",
              " ,,\n",
              " 2001,\n",
              "  ,\n",
              " maria@sharapova.com,\n",
              " ,\n",
              " Serena,\n",
              "  ,\n",
              " 24,\n",
              " June,\n",
              " ,,\n",
              " 1998,\n",
              "   ,\n",
              " serena@williams.com,\n",
              " ,\n",
              " Joe,\n",
              "      ,\n",
              " 1,\n",
              " May,\n",
              " ,,\n",
              " 1997,\n",
              "    ,\n",
              " joe@root.com,\n",
              " \n",
              " \n",
              " \n",
              " ]"
            ]
          },
          "metadata": {},
          "execution_count": 29
        }
      ]
    },
    {
      "cell_type": "code",
      "source": [
        "for birth in doc.ents:\n",
        "  if birth.label_ == \"birth day\":\n",
        "    print(birth)"
      ],
      "metadata": {
        "id": "bQVA_RTG_ZQp"
      },
      "execution_count": null,
      "outputs": []
    },
    {
      "cell_type": "code",
      "source": [
        "import spacy\n",
        "nlp = spacy.load(\"en_core_web_sm\")\n",
        "doc = nlp(text)\n",
        "person = []\n",
        "for token in doc.ents:\n",
        "  if token.label_ == \"PERSON\":\n",
        "    person.append(token.text)\n",
        "print(person)"
      ],
      "metadata": {
        "colab": {
          "base_uri": "https://localhost:8080/"
        },
        "id": "5cLbbpw83mE5",
        "outputId": "0fb14e76-e4a7-45d4-eb74-a333510563bb"
      },
      "execution_count": null,
      "outputs": [
        {
          "output_type": "stream",
          "name": "stdout",
          "text": [
            "['Serena', 'Joe      1 May,']\n"
          ]
        }
      ]
    },
    {
      "cell_type": "code",
      "source": [
        "nlp = spacy.load(\"en_core_web_sm\")\n",
        "text = \"Hello! How are you?\"\n",
        "output = nlp(text)\n",
        "tokens = [out.text for out in output]\n",
        "print(tokens)\n"
      ],
      "metadata": {
        "colab": {
          "base_uri": "https://localhost:8080/"
        },
        "id": "YiHluX-K9B1Q",
        "outputId": "c662aa9c-8f5c-4cfe-921b-15efcc9ecb44"
      },
      "execution_count": null,
      "outputs": [
        {
          "output_type": "stream",
          "name": "stdout",
          "text": [
            "['Hello', '!', 'How', 'are', 'you', '?']\n"
          ]
        }
      ]
    },
    {
      "cell_type": "code",
      "source": [
        "from spacy import displacy\n",
        "import spacy\n",
        "\n",
        "text= \"Harvard University is a private Ivy League research university in Cambridge, Massachusetts, United States. Founded October 28, 1636, and named for its first benefactor, the Puritan clergyman John Harvard, it is the oldest institution of higher learning in the United States. Its influence, wealth, and rankings have made it one of the most prestigious universities in the world.\"\n",
        "nlp = spacy.load('en_core_web_sm')\n",
        "output = nlp(text)\n",
        "\n",
        "for result in output.sents:\n",
        "  displacy.render(output, style = 'ent', page=True)\n"
      ],
      "metadata": {
        "colab": {
          "base_uri": "https://localhost:8080/",
          "height": 529
        },
        "id": "AODHzNbUlVfz",
        "outputId": "aaacf584-4859-4038-e6d6-92d755b87c42"
      },
      "execution_count": 24,
      "outputs": [
        {
          "output_type": "display_data",
          "data": {
            "text/plain": [
              "<IPython.core.display.HTML object>"
            ],
            "text/html": [
              "<span class=\"tex2jax_ignore\"><!DOCTYPE html>\n",
              "<html lang=\"en\">\n",
              "    <head>\n",
              "        <title>displaCy</title>\n",
              "    </head>\n",
              "\n",
              "    <body style=\"font-size: 16px; font-family: -apple-system, BlinkMacSystemFont, 'Segoe UI', Helvetica, Arial, sans-serif, 'Apple Color Emoji', 'Segoe UI Emoji', 'Segoe UI Symbol'; padding: 4rem 2rem; direction: ltr\">\n",
              "<figure style=\"margin-bottom: 6rem\">\n",
              "<div class=\"entities\" style=\"line-height: 2.5; direction: ltr\">\n",
              "<mark class=\"entity\" style=\"background: #7aecec; padding: 0.45em 0.6em; margin: 0 0.25em; line-height: 1; border-radius: 0.35em;\">\n",
              "    Harvard University\n",
              "    <span style=\"font-size: 0.8em; font-weight: bold; line-height: 1; border-radius: 0.35em; vertical-align: middle; margin-left: 0.5rem\">ORG</span>\n",
              "</mark>\n",
              " is a private Ivy League research university in \n",
              "<mark class=\"entity\" style=\"background: #feca74; padding: 0.45em 0.6em; margin: 0 0.25em; line-height: 1; border-radius: 0.35em;\">\n",
              "    Cambridge\n",
              "    <span style=\"font-size: 0.8em; font-weight: bold; line-height: 1; border-radius: 0.35em; vertical-align: middle; margin-left: 0.5rem\">GPE</span>\n",
              "</mark>\n",
              ", \n",
              "<mark class=\"entity\" style=\"background: #feca74; padding: 0.45em 0.6em; margin: 0 0.25em; line-height: 1; border-radius: 0.35em;\">\n",
              "    Massachusetts\n",
              "    <span style=\"font-size: 0.8em; font-weight: bold; line-height: 1; border-radius: 0.35em; vertical-align: middle; margin-left: 0.5rem\">GPE</span>\n",
              "</mark>\n",
              ", \n",
              "<mark class=\"entity\" style=\"background: #feca74; padding: 0.45em 0.6em; margin: 0 0.25em; line-height: 1; border-radius: 0.35em;\">\n",
              "    United States\n",
              "    <span style=\"font-size: 0.8em; font-weight: bold; line-height: 1; border-radius: 0.35em; vertical-align: middle; margin-left: 0.5rem\">GPE</span>\n",
              "</mark>\n",
              ". Founded \n",
              "<mark class=\"entity\" style=\"background: #bfe1d9; padding: 0.45em 0.6em; margin: 0 0.25em; line-height: 1; border-radius: 0.35em;\">\n",
              "    October 28, 1636\n",
              "    <span style=\"font-size: 0.8em; font-weight: bold; line-height: 1; border-radius: 0.35em; vertical-align: middle; margin-left: 0.5rem\">DATE</span>\n",
              "</mark>\n",
              ", and named for its \n",
              "<mark class=\"entity\" style=\"background: #e4e7d2; padding: 0.45em 0.6em; margin: 0 0.25em; line-height: 1; border-radius: 0.35em;\">\n",
              "    first\n",
              "    <span style=\"font-size: 0.8em; font-weight: bold; line-height: 1; border-radius: 0.35em; vertical-align: middle; margin-left: 0.5rem\">ORDINAL</span>\n",
              "</mark>\n",
              " benefactor, the \n",
              "<mark class=\"entity\" style=\"background: #feca74; padding: 0.45em 0.6em; margin: 0 0.25em; line-height: 1; border-radius: 0.35em;\">\n",
              "    Puritan\n",
              "    <span style=\"font-size: 0.8em; font-weight: bold; line-height: 1; border-radius: 0.35em; vertical-align: middle; margin-left: 0.5rem\">GPE</span>\n",
              "</mark>\n",
              " clergyman \n",
              "<mark class=\"entity\" style=\"background: #aa9cfc; padding: 0.45em 0.6em; margin: 0 0.25em; line-height: 1; border-radius: 0.35em;\">\n",
              "    John Harvard\n",
              "    <span style=\"font-size: 0.8em; font-weight: bold; line-height: 1; border-radius: 0.35em; vertical-align: middle; margin-left: 0.5rem\">PERSON</span>\n",
              "</mark>\n",
              ", it is the oldest institution of higher learning in \n",
              "<mark class=\"entity\" style=\"background: #feca74; padding: 0.45em 0.6em; margin: 0 0.25em; line-height: 1; border-radius: 0.35em;\">\n",
              "    the United States\n",
              "    <span style=\"font-size: 0.8em; font-weight: bold; line-height: 1; border-radius: 0.35em; vertical-align: middle; margin-left: 0.5rem\">GPE</span>\n",
              "</mark>\n",
              ". Its influence, wealth, and rankings have made it one of the most prestigious universities in the world.</div>\n",
              "</figure>\n",
              "</body>\n",
              "</html></span>"
            ]
          },
          "metadata": {}
        },
        {
          "output_type": "display_data",
          "data": {
            "text/plain": [
              "<IPython.core.display.HTML object>"
            ],
            "text/html": [
              "<span class=\"tex2jax_ignore\"><!DOCTYPE html>\n",
              "<html lang=\"en\">\n",
              "    <head>\n",
              "        <title>displaCy</title>\n",
              "    </head>\n",
              "\n",
              "    <body style=\"font-size: 16px; font-family: -apple-system, BlinkMacSystemFont, 'Segoe UI', Helvetica, Arial, sans-serif, 'Apple Color Emoji', 'Segoe UI Emoji', 'Segoe UI Symbol'; padding: 4rem 2rem; direction: ltr\">\n",
              "<figure style=\"margin-bottom: 6rem\">\n",
              "<div class=\"entities\" style=\"line-height: 2.5; direction: ltr\">\n",
              "<mark class=\"entity\" style=\"background: #7aecec; padding: 0.45em 0.6em; margin: 0 0.25em; line-height: 1; border-radius: 0.35em;\">\n",
              "    Harvard University\n",
              "    <span style=\"font-size: 0.8em; font-weight: bold; line-height: 1; border-radius: 0.35em; vertical-align: middle; margin-left: 0.5rem\">ORG</span>\n",
              "</mark>\n",
              " is a private Ivy League research university in \n",
              "<mark class=\"entity\" style=\"background: #feca74; padding: 0.45em 0.6em; margin: 0 0.25em; line-height: 1; border-radius: 0.35em;\">\n",
              "    Cambridge\n",
              "    <span style=\"font-size: 0.8em; font-weight: bold; line-height: 1; border-radius: 0.35em; vertical-align: middle; margin-left: 0.5rem\">GPE</span>\n",
              "</mark>\n",
              ", \n",
              "<mark class=\"entity\" style=\"background: #feca74; padding: 0.45em 0.6em; margin: 0 0.25em; line-height: 1; border-radius: 0.35em;\">\n",
              "    Massachusetts\n",
              "    <span style=\"font-size: 0.8em; font-weight: bold; line-height: 1; border-radius: 0.35em; vertical-align: middle; margin-left: 0.5rem\">GPE</span>\n",
              "</mark>\n",
              ", \n",
              "<mark class=\"entity\" style=\"background: #feca74; padding: 0.45em 0.6em; margin: 0 0.25em; line-height: 1; border-radius: 0.35em;\">\n",
              "    United States\n",
              "    <span style=\"font-size: 0.8em; font-weight: bold; line-height: 1; border-radius: 0.35em; vertical-align: middle; margin-left: 0.5rem\">GPE</span>\n",
              "</mark>\n",
              ". Founded \n",
              "<mark class=\"entity\" style=\"background: #bfe1d9; padding: 0.45em 0.6em; margin: 0 0.25em; line-height: 1; border-radius: 0.35em;\">\n",
              "    October 28, 1636\n",
              "    <span style=\"font-size: 0.8em; font-weight: bold; line-height: 1; border-radius: 0.35em; vertical-align: middle; margin-left: 0.5rem\">DATE</span>\n",
              "</mark>\n",
              ", and named for its \n",
              "<mark class=\"entity\" style=\"background: #e4e7d2; padding: 0.45em 0.6em; margin: 0 0.25em; line-height: 1; border-radius: 0.35em;\">\n",
              "    first\n",
              "    <span style=\"font-size: 0.8em; font-weight: bold; line-height: 1; border-radius: 0.35em; vertical-align: middle; margin-left: 0.5rem\">ORDINAL</span>\n",
              "</mark>\n",
              " benefactor, the \n",
              "<mark class=\"entity\" style=\"background: #feca74; padding: 0.45em 0.6em; margin: 0 0.25em; line-height: 1; border-radius: 0.35em;\">\n",
              "    Puritan\n",
              "    <span style=\"font-size: 0.8em; font-weight: bold; line-height: 1; border-radius: 0.35em; vertical-align: middle; margin-left: 0.5rem\">GPE</span>\n",
              "</mark>\n",
              " clergyman \n",
              "<mark class=\"entity\" style=\"background: #aa9cfc; padding: 0.45em 0.6em; margin: 0 0.25em; line-height: 1; border-radius: 0.35em;\">\n",
              "    John Harvard\n",
              "    <span style=\"font-size: 0.8em; font-weight: bold; line-height: 1; border-radius: 0.35em; vertical-align: middle; margin-left: 0.5rem\">PERSON</span>\n",
              "</mark>\n",
              ", it is the oldest institution of higher learning in \n",
              "<mark class=\"entity\" style=\"background: #feca74; padding: 0.45em 0.6em; margin: 0 0.25em; line-height: 1; border-radius: 0.35em;\">\n",
              "    the United States\n",
              "    <span style=\"font-size: 0.8em; font-weight: bold; line-height: 1; border-radius: 0.35em; vertical-align: middle; margin-left: 0.5rem\">GPE</span>\n",
              "</mark>\n",
              ". Its influence, wealth, and rankings have made it one of the most prestigious universities in the world.</div>\n",
              "</figure>\n",
              "</body>\n",
              "</html></span>"
            ]
          },
          "metadata": {}
        },
        {
          "output_type": "display_data",
          "data": {
            "text/plain": [
              "<IPython.core.display.HTML object>"
            ],
            "text/html": [
              "<span class=\"tex2jax_ignore\"><!DOCTYPE html>\n",
              "<html lang=\"en\">\n",
              "    <head>\n",
              "        <title>displaCy</title>\n",
              "    </head>\n",
              "\n",
              "    <body style=\"font-size: 16px; font-family: -apple-system, BlinkMacSystemFont, 'Segoe UI', Helvetica, Arial, sans-serif, 'Apple Color Emoji', 'Segoe UI Emoji', 'Segoe UI Symbol'; padding: 4rem 2rem; direction: ltr\">\n",
              "<figure style=\"margin-bottom: 6rem\">\n",
              "<div class=\"entities\" style=\"line-height: 2.5; direction: ltr\">\n",
              "<mark class=\"entity\" style=\"background: #7aecec; padding: 0.45em 0.6em; margin: 0 0.25em; line-height: 1; border-radius: 0.35em;\">\n",
              "    Harvard University\n",
              "    <span style=\"font-size: 0.8em; font-weight: bold; line-height: 1; border-radius: 0.35em; vertical-align: middle; margin-left: 0.5rem\">ORG</span>\n",
              "</mark>\n",
              " is a private Ivy League research university in \n",
              "<mark class=\"entity\" style=\"background: #feca74; padding: 0.45em 0.6em; margin: 0 0.25em; line-height: 1; border-radius: 0.35em;\">\n",
              "    Cambridge\n",
              "    <span style=\"font-size: 0.8em; font-weight: bold; line-height: 1; border-radius: 0.35em; vertical-align: middle; margin-left: 0.5rem\">GPE</span>\n",
              "</mark>\n",
              ", \n",
              "<mark class=\"entity\" style=\"background: #feca74; padding: 0.45em 0.6em; margin: 0 0.25em; line-height: 1; border-radius: 0.35em;\">\n",
              "    Massachusetts\n",
              "    <span style=\"font-size: 0.8em; font-weight: bold; line-height: 1; border-radius: 0.35em; vertical-align: middle; margin-left: 0.5rem\">GPE</span>\n",
              "</mark>\n",
              ", \n",
              "<mark class=\"entity\" style=\"background: #feca74; padding: 0.45em 0.6em; margin: 0 0.25em; line-height: 1; border-radius: 0.35em;\">\n",
              "    United States\n",
              "    <span style=\"font-size: 0.8em; font-weight: bold; line-height: 1; border-radius: 0.35em; vertical-align: middle; margin-left: 0.5rem\">GPE</span>\n",
              "</mark>\n",
              ". Founded \n",
              "<mark class=\"entity\" style=\"background: #bfe1d9; padding: 0.45em 0.6em; margin: 0 0.25em; line-height: 1; border-radius: 0.35em;\">\n",
              "    October 28, 1636\n",
              "    <span style=\"font-size: 0.8em; font-weight: bold; line-height: 1; border-radius: 0.35em; vertical-align: middle; margin-left: 0.5rem\">DATE</span>\n",
              "</mark>\n",
              ", and named for its \n",
              "<mark class=\"entity\" style=\"background: #e4e7d2; padding: 0.45em 0.6em; margin: 0 0.25em; line-height: 1; border-radius: 0.35em;\">\n",
              "    first\n",
              "    <span style=\"font-size: 0.8em; font-weight: bold; line-height: 1; border-radius: 0.35em; vertical-align: middle; margin-left: 0.5rem\">ORDINAL</span>\n",
              "</mark>\n",
              " benefactor, the \n",
              "<mark class=\"entity\" style=\"background: #feca74; padding: 0.45em 0.6em; margin: 0 0.25em; line-height: 1; border-radius: 0.35em;\">\n",
              "    Puritan\n",
              "    <span style=\"font-size: 0.8em; font-weight: bold; line-height: 1; border-radius: 0.35em; vertical-align: middle; margin-left: 0.5rem\">GPE</span>\n",
              "</mark>\n",
              " clergyman \n",
              "<mark class=\"entity\" style=\"background: #aa9cfc; padding: 0.45em 0.6em; margin: 0 0.25em; line-height: 1; border-radius: 0.35em;\">\n",
              "    John Harvard\n",
              "    <span style=\"font-size: 0.8em; font-weight: bold; line-height: 1; border-radius: 0.35em; vertical-align: middle; margin-left: 0.5rem\">PERSON</span>\n",
              "</mark>\n",
              ", it is the oldest institution of higher learning in \n",
              "<mark class=\"entity\" style=\"background: #feca74; padding: 0.45em 0.6em; margin: 0 0.25em; line-height: 1; border-radius: 0.35em;\">\n",
              "    the United States\n",
              "    <span style=\"font-size: 0.8em; font-weight: bold; line-height: 1; border-radius: 0.35em; vertical-align: middle; margin-left: 0.5rem\">GPE</span>\n",
              "</mark>\n",
              ". Its influence, wealth, and rankings have made it one of the most prestigious universities in the world.</div>\n",
              "</figure>\n",
              "</body>\n",
              "</html></span>"
            ]
          },
          "metadata": {}
        }
      ]
    },
    {
      "cell_type": "code",
      "source": [
        "nlp_source = spacy.load('en_core_web_sm')\n",
        "# nlp = spacy.blank('en')\n",
        "\n",
        "# nlp.add_pipe('ner', source=nlp_source)\n",
        "# nlp.pipe_names\n",
        "\n",
        "text = \"Harvard University is a private Ivy League research university in Cambridge, Massachusetts, United States. Founded October 28, 1636, and named for its first benefactor, the Puritan clergyman John Harvard, it is the oldest institution of higher learning in the United States. Its influence, wealth, and rankings have made it one of the most prestigious universities in the world\"\n",
        "doc = nlp(text)\n",
        "for entity in doc.ents:\n",
        "  print(entity.text,\":\", entity.label_)"
      ],
      "metadata": {
        "colab": {
          "base_uri": "https://localhost:8080/"
        },
        "id": "WMCQjtqionS5",
        "outputId": "4875ff47-4d14-48b7-ae00-12032604d3c4"
      },
      "execution_count": 23,
      "outputs": [
        {
          "output_type": "stream",
          "name": "stdout",
          "text": [
            "Harvard University : ORG\n",
            "Cambridge : GPE\n",
            "Massachusetts : GPE\n",
            "United States : GPE\n",
            "October 28, 1636 : DATE\n",
            "first : ORDINAL\n",
            "Puritan : GPE\n",
            "John Harvard : PERSON\n",
            "the United States : GPE\n"
          ]
        }
      ]
    },
    {
      "cell_type": "code",
      "source": [
        "import spacy\n",
        "nlp = spacy.load('en_core_web_sm')\n",
        "\n",
        "text = '''Look for data to help you address the question. Governments are good\n",
        "sources because data from public research is often freely available. Good\n",
        "places to start include http://www.data.gov/, and http://www.science.\n",
        "gov/, and in the United Kingdom, http://data.gov.uk/.\n",
        "Two of my favorite data sets are the General Social Survey at http://www3.norc.org/gss+website/,\n",
        "and the European Social Survey at http://www.europeansocialsurvey.org/.'''\n",
        "\n",
        "result = nlp(text)\n",
        "\n",
        "email_output = [email.text for email in result if email.like_url]\n",
        "\n",
        "print(email_output)\n",
        "\n"
      ],
      "metadata": {
        "colab": {
          "base_uri": "https://localhost:8080/"
        },
        "id": "q-7-VYnjoQ6q",
        "outputId": "f7c5b294-9c71-4f59-8fd6-6f5874e31002"
      },
      "execution_count": 30,
      "outputs": [
        {
          "output_type": "stream",
          "name": "stdout",
          "text": [
            "['http://www.data.gov/', 'http://www.science', 'http://data.gov.uk/.', 'http://www3.norc.org/gss+website/', 'http://www.europeansocialsurvey.org/.']\n"
          ]
        }
      ]
    },
    {
      "cell_type": "code",
      "source": [
        "import spacy\n",
        "nlp = spacy.load('en_core_web_sm')\n",
        "\n",
        "text = '''Look for data to help you address the question. Governments are good\n",
        "sources because data from public research is often freely available. Good\n",
        "places to start include http://www.data.gov/, and http://www.science.\n",
        "gov/, and in the United Kingdom, http://data.gov.uk/.\n",
        "Two of my favorite data sets are the General Social Survey at http://www3.norc.org/gss+website/,\n",
        "and the European Social Survey at http://www.europeansocialsurvey.org/.'''\n",
        "\n",
        "result = nlp(text)"
      ],
      "metadata": {
        "id": "vQDb-xhGmds8"
      },
      "execution_count": null,
      "outputs": []
    },
    {
      "cell_type": "code",
      "source": [
        "nlp = spacy.load('en_core_web_sm')\n",
        "text = 'Tony gave two $ to Peter, Bruce gave 500 € to Steve'\n",
        "result = nlp(text)\n",
        "for token in result:\n",
        "  if token.like_num and result[token.i+1].is_currency:\n",
        "    print(token, result[token.i+1].text)"
      ],
      "metadata": {
        "colab": {
          "base_uri": "https://localhost:8080/"
        },
        "id": "StpWB8_smJ8r",
        "outputId": "b4e95486-b2c5-4a36-f878-7caf7b0c0299"
      },
      "execution_count": 35,
      "outputs": [
        {
          "output_type": "stream",
          "name": "stdout",
          "text": [
            "two $\n",
            "500 €\n"
          ]
        }
      ]
    },
    {
      "cell_type": "code",
      "source": [],
      "metadata": {
        "id": "nRKRafdmltNc"
      },
      "execution_count": null,
      "outputs": []
    }
  ],
  "metadata": {
    "colab": {
      "provenance": [],
      "mount_file_id": "1b3YVdFl_YFNZv6mIxusrnJtFhPgG2goP",
      "authorship_tag": "ABX9TyPo5/dSBYgqHuBFth6O/YUr",
      "include_colab_link": true
    },
    "kernelspec": {
      "display_name": "Python 3",
      "name": "python3"
    },
    "language_info": {
      "name": "python"
    }
  },
  "nbformat": 4,
  "nbformat_minor": 0
}