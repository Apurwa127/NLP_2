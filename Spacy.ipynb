{
  "cells": [
    {
      "cell_type": "markdown",
      "metadata": {
        "id": "view-in-github",
        "colab_type": "text"
      },
      "source": [
        "<a href=\"https://colab.research.google.com/github/Apurwa127/NLP_2/blob/main/Spacy.ipynb\" target=\"_parent\"><img src=\"https://colab.research.google.com/assets/colab-badge.svg\" alt=\"Open In Colab\"/></a>"
      ]
    },
    {
      "cell_type": "code",
      "source": [
        "!pip install nltk\n",
        "!pip install spacy"
      ],
      "metadata": {
        "id": "Ol6PBGHTbigq",
        "colab": {
          "base_uri": "https://localhost:8080/"
        },
        "outputId": "21b1cc2d-ae37-44c3-ce13-ff334db1712c"
      },
      "execution_count": 1,
      "outputs": [
        {
          "output_type": "stream",
          "name": "stdout",
          "text": [
            "Requirement already satisfied: nltk in /usr/local/lib/python3.11/dist-packages (3.9.1)\n",
            "Requirement already satisfied: click in /usr/local/lib/python3.11/dist-packages (from nltk) (8.1.8)\n",
            "Requirement already satisfied: joblib in /usr/local/lib/python3.11/dist-packages (from nltk) (1.4.2)\n",
            "Requirement already satisfied: regex>=2021.8.3 in /usr/local/lib/python3.11/dist-packages (from nltk) (2024.11.6)\n",
            "Requirement already satisfied: tqdm in /usr/local/lib/python3.11/dist-packages (from nltk) (4.67.1)\n",
            "Requirement already satisfied: spacy in /usr/local/lib/python3.11/dist-packages (3.8.4)\n",
            "Requirement already satisfied: spacy-legacy<3.1.0,>=3.0.11 in /usr/local/lib/python3.11/dist-packages (from spacy) (3.0.12)\n",
            "Requirement already satisfied: spacy-loggers<2.0.0,>=1.0.0 in /usr/local/lib/python3.11/dist-packages (from spacy) (1.0.5)\n",
            "Requirement already satisfied: murmurhash<1.1.0,>=0.28.0 in /usr/local/lib/python3.11/dist-packages (from spacy) (1.0.12)\n",
            "Requirement already satisfied: cymem<2.1.0,>=2.0.2 in /usr/local/lib/python3.11/dist-packages (from spacy) (2.0.11)\n",
            "Requirement already satisfied: preshed<3.1.0,>=3.0.2 in /usr/local/lib/python3.11/dist-packages (from spacy) (3.0.9)\n",
            "Requirement already satisfied: thinc<8.4.0,>=8.3.4 in /usr/local/lib/python3.11/dist-packages (from spacy) (8.3.4)\n",
            "Requirement already satisfied: wasabi<1.2.0,>=0.9.1 in /usr/local/lib/python3.11/dist-packages (from spacy) (1.1.3)\n",
            "Requirement already satisfied: srsly<3.0.0,>=2.4.3 in /usr/local/lib/python3.11/dist-packages (from spacy) (2.5.1)\n",
            "Requirement already satisfied: catalogue<2.1.0,>=2.0.6 in /usr/local/lib/python3.11/dist-packages (from spacy) (2.0.10)\n",
            "Requirement already satisfied: weasel<0.5.0,>=0.1.0 in /usr/local/lib/python3.11/dist-packages (from spacy) (0.4.1)\n",
            "Requirement already satisfied: typer<1.0.0,>=0.3.0 in /usr/local/lib/python3.11/dist-packages (from spacy) (0.15.2)\n",
            "Requirement already satisfied: tqdm<5.0.0,>=4.38.0 in /usr/local/lib/python3.11/dist-packages (from spacy) (4.67.1)\n",
            "Requirement already satisfied: numpy>=1.19.0 in /usr/local/lib/python3.11/dist-packages (from spacy) (2.0.2)\n",
            "Requirement already satisfied: requests<3.0.0,>=2.13.0 in /usr/local/lib/python3.11/dist-packages (from spacy) (2.32.3)\n",
            "Requirement already satisfied: pydantic!=1.8,!=1.8.1,<3.0.0,>=1.7.4 in /usr/local/lib/python3.11/dist-packages (from spacy) (2.10.6)\n",
            "Requirement already satisfied: jinja2 in /usr/local/lib/python3.11/dist-packages (from spacy) (3.1.6)\n",
            "Requirement already satisfied: setuptools in /usr/local/lib/python3.11/dist-packages (from spacy) (75.1.0)\n",
            "Requirement already satisfied: packaging>=20.0 in /usr/local/lib/python3.11/dist-packages (from spacy) (24.2)\n",
            "Requirement already satisfied: langcodes<4.0.0,>=3.2.0 in /usr/local/lib/python3.11/dist-packages (from spacy) (3.5.0)\n",
            "Requirement already satisfied: language-data>=1.2 in /usr/local/lib/python3.11/dist-packages (from langcodes<4.0.0,>=3.2.0->spacy) (1.3.0)\n",
            "Requirement already satisfied: annotated-types>=0.6.0 in /usr/local/lib/python3.11/dist-packages (from pydantic!=1.8,!=1.8.1,<3.0.0,>=1.7.4->spacy) (0.7.0)\n",
            "Requirement already satisfied: pydantic-core==2.27.2 in /usr/local/lib/python3.11/dist-packages (from pydantic!=1.8,!=1.8.1,<3.0.0,>=1.7.4->spacy) (2.27.2)\n",
            "Requirement already satisfied: typing-extensions>=4.12.2 in /usr/local/lib/python3.11/dist-packages (from pydantic!=1.8,!=1.8.1,<3.0.0,>=1.7.4->spacy) (4.12.2)\n",
            "Requirement already satisfied: charset-normalizer<4,>=2 in /usr/local/lib/python3.11/dist-packages (from requests<3.0.0,>=2.13.0->spacy) (3.4.1)\n",
            "Requirement already satisfied: idna<4,>=2.5 in /usr/local/lib/python3.11/dist-packages (from requests<3.0.0,>=2.13.0->spacy) (3.10)\n",
            "Requirement already satisfied: urllib3<3,>=1.21.1 in /usr/local/lib/python3.11/dist-packages (from requests<3.0.0,>=2.13.0->spacy) (2.3.0)\n",
            "Requirement already satisfied: certifi>=2017.4.17 in /usr/local/lib/python3.11/dist-packages (from requests<3.0.0,>=2.13.0->spacy) (2025.1.31)\n",
            "Requirement already satisfied: blis<1.3.0,>=1.2.0 in /usr/local/lib/python3.11/dist-packages (from thinc<8.4.0,>=8.3.4->spacy) (1.2.0)\n",
            "Requirement already satisfied: confection<1.0.0,>=0.0.1 in /usr/local/lib/python3.11/dist-packages (from thinc<8.4.0,>=8.3.4->spacy) (0.1.5)\n",
            "Requirement already satisfied: click>=8.0.0 in /usr/local/lib/python3.11/dist-packages (from typer<1.0.0,>=0.3.0->spacy) (8.1.8)\n",
            "Requirement already satisfied: shellingham>=1.3.0 in /usr/local/lib/python3.11/dist-packages (from typer<1.0.0,>=0.3.0->spacy) (1.5.4)\n",
            "Requirement already satisfied: rich>=10.11.0 in /usr/local/lib/python3.11/dist-packages (from typer<1.0.0,>=0.3.0->spacy) (13.9.4)\n",
            "Requirement already satisfied: cloudpathlib<1.0.0,>=0.7.0 in /usr/local/lib/python3.11/dist-packages (from weasel<0.5.0,>=0.1.0->spacy) (0.21.0)\n",
            "Requirement already satisfied: smart-open<8.0.0,>=5.2.1 in /usr/local/lib/python3.11/dist-packages (from weasel<0.5.0,>=0.1.0->spacy) (7.1.0)\n",
            "Requirement already satisfied: MarkupSafe>=2.0 in /usr/local/lib/python3.11/dist-packages (from jinja2->spacy) (3.0.2)\n",
            "Requirement already satisfied: marisa-trie>=1.1.0 in /usr/local/lib/python3.11/dist-packages (from language-data>=1.2->langcodes<4.0.0,>=3.2.0->spacy) (1.2.1)\n",
            "Requirement already satisfied: markdown-it-py>=2.2.0 in /usr/local/lib/python3.11/dist-packages (from rich>=10.11.0->typer<1.0.0,>=0.3.0->spacy) (3.0.0)\n",
            "Requirement already satisfied: pygments<3.0.0,>=2.13.0 in /usr/local/lib/python3.11/dist-packages (from rich>=10.11.0->typer<1.0.0,>=0.3.0->spacy) (2.18.0)\n",
            "Requirement already satisfied: wrapt in /usr/local/lib/python3.11/dist-packages (from smart-open<8.0.0,>=5.2.1->weasel<0.5.0,>=0.1.0->spacy) (1.17.2)\n",
            "Requirement already satisfied: mdurl~=0.1 in /usr/local/lib/python3.11/dist-packages (from markdown-it-py>=2.2.0->rich>=10.11.0->typer<1.0.0,>=0.3.0->spacy) (0.1.2)\n"
          ]
        }
      ]
    },
    {
      "cell_type": "code",
      "source": [
        "import spacy\n",
        "import nltk\n",
        "load = spacy.load('en_core_web_sm')\n",
        "text = \"Barack Hussein Obama II[a] (born August 4, 1961) is an American politician who was the 44th president of the United States from 2009 to 2017. He was born in Hawaii\"\n",
        "output = load(text)\n",
        "for tokenization in output:\n",
        "  print(tokenization)"
      ],
      "metadata": {
        "colab": {
          "base_uri": "https://localhost:8080/"
        },
        "id": "XbloVZ_wbYql",
        "outputId": "febae4f5-f6a1-4494-d4cf-0b3dd76be9b1"
      },
      "execution_count": 13,
      "outputs": [
        {
          "output_type": "stream",
          "name": "stdout",
          "text": [
            "Barack\n",
            "Hussein\n",
            "Obama\n",
            "II[a\n",
            "]\n",
            "(\n",
            "born\n",
            "August\n",
            "4\n",
            ",\n",
            "1961\n",
            ")\n",
            "is\n",
            "an\n",
            "American\n",
            "politician\n",
            "who\n",
            "was\n",
            "the\n",
            "44th\n",
            "president\n",
            "of\n",
            "the\n",
            "United\n",
            "States\n",
            "from\n",
            "2009\n",
            "to\n",
            "2017\n",
            ".\n",
            "He\n",
            "was\n",
            "born\n",
            "in\n",
            "Hawaii\n"
          ]
        }
      ]
    },
    {
      "cell_type": "code",
      "source": [
        "for sent in output.sents:\n",
        "  print(sent)"
      ],
      "metadata": {
        "colab": {
          "base_uri": "https://localhost:8080/"
        },
        "id": "7iNJkJR-cFY9",
        "outputId": "bc7f4cbf-9c90-4596-c71e-3285f1e3a165"
      },
      "execution_count": 14,
      "outputs": [
        {
          "output_type": "stream",
          "name": "stdout",
          "text": [
            "Barack Hussein Obama II[a] (born August 4, 1961) is an American politician who was the 44th president of the United States from 2009 to 2017.\n",
            "He was born in Hawaii\n"
          ]
        }
      ]
    },
    {
      "cell_type": "code",
      "source": [
        "text = \"Obama was born in Honolulu, Hawaii. He graduated from Columbia University in 1983 with a Bachelor of Arts degree in political science and later worked as a community organizer in Chicago. In 1988, Obama enrolled in Harvard Law School, where he was the first black president of the Harvard Law Review. He became a civil rights attorney and an academic, teaching constitutional law at the University of Chicago Law School from 1992 to 2004. In 1996, Obama was elected to represent the 13th district in the Illinois Senate, a position he held until 2004, when he successfully ran for the U.S. Senate. In the 2008 presidential election, after a close primary campaign against Hillary Clinton, he was nominated by the Democratic Party for president. Obama selected Joe Biden as his running mate and defeated Republican nominee John McCain and his running mate Sarah Palin.\"\n",
        "output = load(text)\n",
        "for pos in output:\n",
        "  print(pos.text,\":\", pos.pos_)\n"
      ],
      "metadata": {
        "colab": {
          "base_uri": "https://localhost:8080/"
        },
        "id": "44XxQr0rdE4R",
        "outputId": "41db9a82-b0bb-49bf-af08-c9a66d83ab7d"
      },
      "execution_count": 19,
      "outputs": [
        {
          "output_type": "stream",
          "name": "stdout",
          "text": [
            "Obama : PROPN\n",
            "was : AUX\n",
            "born : VERB\n",
            "in : ADP\n",
            "Honolulu : PROPN\n",
            ", : PUNCT\n",
            "Hawaii : PROPN\n",
            ". : PUNCT\n",
            "He : PRON\n",
            "graduated : VERB\n",
            "from : ADP\n",
            "Columbia : PROPN\n",
            "University : PROPN\n",
            "in : ADP\n",
            "1983 : NUM\n",
            "with : ADP\n",
            "a : DET\n",
            "Bachelor : PROPN\n",
            "of : ADP\n",
            "Arts : PROPN\n",
            "degree : NOUN\n",
            "in : ADP\n",
            "political : ADJ\n",
            "science : NOUN\n",
            "and : CCONJ\n",
            "later : ADV\n",
            "worked : VERB\n",
            "as : ADP\n",
            "a : DET\n",
            "community : NOUN\n",
            "organizer : NOUN\n",
            "in : ADP\n",
            "Chicago : PROPN\n",
            ". : PUNCT\n",
            "In : ADP\n",
            "1988 : NUM\n",
            ", : PUNCT\n",
            "Obama : PROPN\n",
            "enrolled : VERB\n",
            "in : ADP\n",
            "Harvard : PROPN\n",
            "Law : PROPN\n",
            "School : PROPN\n",
            ", : PUNCT\n",
            "where : SCONJ\n",
            "he : PRON\n",
            "was : AUX\n",
            "the : DET\n",
            "first : ADJ\n",
            "black : ADJ\n",
            "president : NOUN\n",
            "of : ADP\n",
            "the : DET\n",
            "Harvard : PROPN\n",
            "Law : PROPN\n",
            "Review : PROPN\n",
            ". : PUNCT\n",
            "He : PRON\n",
            "became : VERB\n",
            "a : DET\n",
            "civil : ADJ\n",
            "rights : NOUN\n",
            "attorney : NOUN\n",
            "and : CCONJ\n",
            "an : DET\n",
            "academic : ADJ\n",
            ", : PUNCT\n",
            "teaching : VERB\n",
            "constitutional : ADJ\n",
            "law : NOUN\n",
            "at : ADP\n",
            "the : DET\n",
            "University : PROPN\n",
            "of : ADP\n",
            "Chicago : PROPN\n",
            "Law : PROPN\n",
            "School : PROPN\n",
            "from : ADP\n",
            "1992 : NUM\n",
            "to : ADP\n",
            "2004 : NUM\n",
            ". : PUNCT\n",
            "In : ADP\n",
            "1996 : NUM\n",
            ", : PUNCT\n",
            "Obama : PROPN\n",
            "was : AUX\n",
            "elected : VERB\n",
            "to : PART\n",
            "represent : VERB\n",
            "the : DET\n",
            "13th : ADJ\n",
            "district : NOUN\n",
            "in : ADP\n",
            "the : DET\n",
            "Illinois : PROPN\n",
            "Senate : PROPN\n",
            ", : PUNCT\n",
            "a : DET\n",
            "position : NOUN\n",
            "he : PRON\n",
            "held : VERB\n",
            "until : ADP\n",
            "2004 : NUM\n",
            ", : PUNCT\n",
            "when : SCONJ\n",
            "he : PRON\n",
            "successfully : ADV\n",
            "ran : VERB\n",
            "for : ADP\n",
            "the : DET\n",
            "U.S. : PROPN\n",
            "Senate : PROPN\n",
            ". : PUNCT\n",
            "In : ADP\n",
            "the : DET\n",
            "2008 : NUM\n",
            "presidential : ADJ\n",
            "election : NOUN\n",
            ", : PUNCT\n",
            "after : ADP\n",
            "a : DET\n",
            "close : ADJ\n",
            "primary : ADJ\n",
            "campaign : NOUN\n",
            "against : ADP\n",
            "Hillary : PROPN\n",
            "Clinton : PROPN\n",
            ", : PUNCT\n",
            "he : PRON\n",
            "was : AUX\n",
            "nominated : VERB\n",
            "by : ADP\n",
            "the : DET\n",
            "Democratic : PROPN\n",
            "Party : PROPN\n",
            "for : ADP\n",
            "president : NOUN\n",
            ". : PUNCT\n",
            "Obama : PROPN\n",
            "selected : VERB\n",
            "Joe : PROPN\n",
            "Biden : PROPN\n",
            "as : ADP\n",
            "his : PRON\n",
            "running : NOUN\n",
            "mate : NOUN\n",
            "and : CCONJ\n",
            "defeated : VERB\n",
            "Republican : ADJ\n",
            "nominee : NOUN\n",
            "John : PROPN\n",
            "McCain : PROPN\n",
            "and : CCONJ\n",
            "his : PRON\n",
            "running : NOUN\n",
            "mate : NOUN\n",
            "Sarah : PROPN\n",
            "Palin : PROPN\n",
            ". : PUNCT\n"
          ]
        }
      ]
    },
    {
      "cell_type": "code",
      "source": [
        "text = \"Obama was born in Honolulu, Hawaii. He graduated from Columbia University in 1983 with a Bachelor of Arts degree in political science and later worked as a community organizer in Chicago. In 1988, Obama enrolled in Harvard Law School, where he was the first black president of the Harvard Law Review. He became a civil rights attorney and an academic, teaching constitutional law at the University of Chicago Law School from 1992 to 2004. In 1996, Obama was elected to represent the 13th district in the Illinois Senate, a position he held until 2004, when he successfully ran for the U.S. Senate. In the 2008 presidential election, after a close primary campaign against Hillary Clinton, he was nominated by the Democratic Party for president. Obama selected Joe Biden as his running mate and defeated Republican nominee John McCain and his running mate Sarah Palin.\"\n",
        "output = load(text)\n",
        "for entity in output.ents:\n",
        "  print(entity.text,\":\", entity.label_)"
      ],
      "metadata": {
        "colab": {
          "base_uri": "https://localhost:8080/"
        },
        "id": "GafaR54Ldtb4",
        "outputId": "ea66c9fe-bcc6-4938-9f04-87b9009333fa"
      },
      "execution_count": 23,
      "outputs": [
        {
          "output_type": "stream",
          "name": "stdout",
          "text": [
            "Obama : PERSON\n",
            "Honolulu : GPE\n",
            "Hawaii : GPE\n",
            "Columbia University : ORG\n",
            "1983 : DATE\n",
            "Chicago : GPE\n",
            "1988 : DATE\n",
            "Obama : PERSON\n",
            "Harvard Law School : ORG\n",
            "first : ORDINAL\n",
            "the Harvard Law Review : ORG\n",
            "the University of Chicago Law School : ORG\n",
            "1992 : DATE\n",
            "2004 : DATE\n",
            "1996 : DATE\n",
            "Obama : PERSON\n",
            "13th : ORDINAL\n",
            "the Illinois Senate : FAC\n",
            "2004 : DATE\n",
            "the U.S. Senate : ORG\n",
            "2008 : DATE\n",
            "Hillary Clinton : PERSON\n",
            "the Democratic Party : ORG\n",
            "Obama : PERSON\n",
            "Joe Biden : PERSON\n",
            "Republican : NORP\n",
            "John McCain : PERSON\n",
            "Sarah Palin : PERSON\n"
          ]
        }
      ]
    },
    {
      "cell_type": "code",
      "source": [
        "text = \"Obama was born in Honolulu, Hawaii. He graduated from Columbia University in 1983 with a Bachelor of Arts degree in political science and later worked as a community organizer in Chicago. In 1988, Obama enrolled in Harvard Law School, where he was the first black president of the Harvard Law Review. He became a civil rights attorney and an academic, teaching constitutional law at the University of Chicago Law School from 1992 to 2004. In 1996, Obama was elected to represent the 13th district in the Illinois Senate, a position he held until 2004, when he successfully ran for the U.S. Senate. In the 2008 presidential election, after a close primary campaign against Hillary Clinton, he was nominated by the Democratic Party for president. Obama selected Joe Biden as his running mate and defeated Republican nominee John McCain and his running mate Sarah Palin.\"\n",
        "output = load(text)\n",
        "for name in output:\n",
        "  print(name.text, \":\", name.lemma_)"
      ],
      "metadata": {
        "colab": {
          "base_uri": "https://localhost:8080/"
        },
        "id": "VYxDM84_enPu",
        "outputId": "ddd1fda6-afc2-4916-9b5f-ea8716c7b2fe"
      },
      "execution_count": 26,
      "outputs": [
        {
          "output_type": "stream",
          "name": "stdout",
          "text": [
            "Obama : Obama\n",
            "was : be\n",
            "born : bear\n",
            "in : in\n",
            "Honolulu : Honolulu\n",
            ", : ,\n",
            "Hawaii : Hawaii\n",
            ". : .\n",
            "He : he\n",
            "graduated : graduate\n",
            "from : from\n",
            "Columbia : Columbia\n",
            "University : University\n",
            "in : in\n",
            "1983 : 1983\n",
            "with : with\n",
            "a : a\n",
            "Bachelor : Bachelor\n",
            "of : of\n",
            "Arts : Arts\n",
            "degree : degree\n",
            "in : in\n",
            "political : political\n",
            "science : science\n",
            "and : and\n",
            "later : later\n",
            "worked : work\n",
            "as : as\n",
            "a : a\n",
            "community : community\n",
            "organizer : organizer\n",
            "in : in\n",
            "Chicago : Chicago\n",
            ". : .\n",
            "In : in\n",
            "1988 : 1988\n",
            ", : ,\n",
            "Obama : Obama\n",
            "enrolled : enrol\n",
            "in : in\n",
            "Harvard : Harvard\n",
            "Law : Law\n",
            "School : School\n",
            ", : ,\n",
            "where : where\n",
            "he : he\n",
            "was : be\n",
            "the : the\n",
            "first : first\n",
            "black : black\n",
            "president : president\n",
            "of : of\n",
            "the : the\n",
            "Harvard : Harvard\n",
            "Law : Law\n",
            "Review : Review\n",
            ". : .\n",
            "He : he\n",
            "became : become\n",
            "a : a\n",
            "civil : civil\n",
            "rights : right\n",
            "attorney : attorney\n",
            "and : and\n",
            "an : an\n",
            "academic : academic\n",
            ", : ,\n",
            "teaching : teach\n",
            "constitutional : constitutional\n",
            "law : law\n",
            "at : at\n",
            "the : the\n",
            "University : University\n",
            "of : of\n",
            "Chicago : Chicago\n",
            "Law : Law\n",
            "School : School\n",
            "from : from\n",
            "1992 : 1992\n",
            "to : to\n",
            "2004 : 2004\n",
            ". : .\n",
            "In : in\n",
            "1996 : 1996\n",
            ", : ,\n",
            "Obama : Obama\n",
            "was : be\n",
            "elected : elect\n",
            "to : to\n",
            "represent : represent\n",
            "the : the\n",
            "13th : 13th\n",
            "district : district\n",
            "in : in\n",
            "the : the\n",
            "Illinois : Illinois\n",
            "Senate : Senate\n",
            ", : ,\n",
            "a : a\n",
            "position : position\n",
            "he : he\n",
            "held : hold\n",
            "until : until\n",
            "2004 : 2004\n",
            ", : ,\n",
            "when : when\n",
            "he : he\n",
            "successfully : successfully\n",
            "ran : run\n",
            "for : for\n",
            "the : the\n",
            "U.S. : U.S.\n",
            "Senate : Senate\n",
            ". : .\n",
            "In : in\n",
            "the : the\n",
            "2008 : 2008\n",
            "presidential : presidential\n",
            "election : election\n",
            ", : ,\n",
            "after : after\n",
            "a : a\n",
            "close : close\n",
            "primary : primary\n",
            "campaign : campaign\n",
            "against : against\n",
            "Hillary : Hillary\n",
            "Clinton : Clinton\n",
            ", : ,\n",
            "he : he\n",
            "was : be\n",
            "nominated : nominate\n",
            "by : by\n",
            "the : the\n",
            "Democratic : Democratic\n",
            "Party : Party\n",
            "for : for\n",
            "president : president\n",
            ". : .\n",
            "Obama : Obama\n",
            "selected : select\n",
            "Joe : Joe\n",
            "Biden : Biden\n",
            "as : as\n",
            "his : his\n",
            "running : running\n",
            "mate : mate\n",
            "and : and\n",
            "defeated : defeat\n",
            "Republican : republican\n",
            "nominee : nominee\n",
            "John : John\n",
            "McCain : McCain\n",
            "and : and\n",
            "his : his\n",
            "running : running\n",
            "mate : mate\n",
            "Sarah : Sarah\n",
            "Palin : Palin\n",
            ". : .\n"
          ]
        }
      ]
    },
    {
      "cell_type": "code",
      "source": [
        "output = spacy.load(\"en_core_web_sm\")\n",
        "\n",
        "doc = output(\"Obama was born in Honolulu, Hawaii. He graduated from Columbia University in 1983 with a Bachelor of Arts degree in political science and later worked as a community organizer in Chicago. In 1988, Obama enrolled in Harvard Law School, where he was the first black president of the Harvard Law Review. He became a civil rights attorney and an academic, teaching constitutional law at the University of Chicago Law School from 1992 to 2004. In 1996, Obama was elected to represent the 13th district in the Illinois Senate, a position he held until 2004, when he successfully ran for the U.S. Senate. In the 2008 presidential election, after a close primary campaign against Hillary Clinton, he was nominated by the Democratic Party for president. Obama selected Joe Biden as his running mate and defeated Republican nominee John McCain and his running mate Sarah Palin.\")\n",
        "print( [token.text for token in doc[1:5]])\n",
        "\n",
        ""
      ],
      "metadata": {
        "colab": {
          "base_uri": "https://localhost:8080/"
        },
        "id": "DU3S-WHPfvHm",
        "outputId": "12c40442-080e-491d-cff7-99069a3e5211"
      },
      "execution_count": 54,
      "outputs": [
        {
          "output_type": "stream",
          "name": "stdout",
          "text": [
            "['was', 'born', 'in', 'Honolulu']\n"
          ]
        }
      ]
    },
    {
      "cell_type": "code",
      "source": [
        "type(doc)"
      ],
      "metadata": {
        "colab": {
          "base_uri": "https://localhost:8080/"
        },
        "id": "yqy1IPJkkdgc",
        "outputId": "695236fc-7f68-4c26-dd3f-f0f1a62b4295"
      },
      "execution_count": 42,
      "outputs": [
        {
          "output_type": "execute_result",
          "data": {
            "text/plain": [
              "spacy.tokens.doc.Doc"
            ]
          },
          "metadata": {},
          "execution_count": 42
        }
      ]
    },
    {
      "cell_type": "code",
      "source": [
        "dir(doc)\n"
      ],
      "metadata": {
        "colab": {
          "base_uri": "https://localhost:8080/"
        },
        "id": "rh0dMbDPkevs",
        "outputId": "d4b5a8ab-ad13-4357-dcff-40dd449cfb5d"
      },
      "execution_count": 57,
      "outputs": [
        {
          "output_type": "execute_result",
          "data": {
            "text/plain": [
              "['_',\n",
              " '__bytes__',\n",
              " '__class__',\n",
              " '__delattr__',\n",
              " '__dir__',\n",
              " '__doc__',\n",
              " '__eq__',\n",
              " '__format__',\n",
              " '__ge__',\n",
              " '__getattribute__',\n",
              " '__getitem__',\n",
              " '__getstate__',\n",
              " '__gt__',\n",
              " '__hash__',\n",
              " '__init__',\n",
              " '__init_subclass__',\n",
              " '__iter__',\n",
              " '__le__',\n",
              " '__len__',\n",
              " '__lt__',\n",
              " '__ne__',\n",
              " '__new__',\n",
              " '__pyx_vtable__',\n",
              " '__reduce__',\n",
              " '__reduce_ex__',\n",
              " '__repr__',\n",
              " '__setattr__',\n",
              " '__setstate__',\n",
              " '__sizeof__',\n",
              " '__str__',\n",
              " '__subclasshook__',\n",
              " '__unicode__',\n",
              " '_bulk_merge',\n",
              " '_context',\n",
              " '_get_array_attrs',\n",
              " '_realloc',\n",
              " '_vector',\n",
              " '_vector_norm',\n",
              " 'cats',\n",
              " 'char_span',\n",
              " 'copy',\n",
              " 'count_by',\n",
              " 'doc',\n",
              " 'ents',\n",
              " 'extend_tensor',\n",
              " 'from_array',\n",
              " 'from_bytes',\n",
              " 'from_dict',\n",
              " 'from_disk',\n",
              " 'from_docs',\n",
              " 'from_json',\n",
              " 'get_extension',\n",
              " 'get_lca_matrix',\n",
              " 'has_annotation',\n",
              " 'has_extension',\n",
              " 'has_unknown_spaces',\n",
              " 'has_vector',\n",
              " 'is_nered',\n",
              " 'is_parsed',\n",
              " 'is_sentenced',\n",
              " 'is_tagged',\n",
              " 'lang',\n",
              " 'lang_',\n",
              " 'mem',\n",
              " 'noun_chunks',\n",
              " 'noun_chunks_iterator',\n",
              " 'remove_extension',\n",
              " 'retokenize',\n",
              " 'sentiment',\n",
              " 'sents',\n",
              " 'set_ents',\n",
              " 'set_extension',\n",
              " 'similarity',\n",
              " 'spans',\n",
              " 'tensor',\n",
              " 'text',\n",
              " 'text_with_ws',\n",
              " 'to_array',\n",
              " 'to_bytes',\n",
              " 'to_dict',\n",
              " 'to_disk',\n",
              " 'to_json',\n",
              " 'to_utf8_array',\n",
              " 'user_data',\n",
              " 'user_hooks',\n",
              " 'user_span_hooks',\n",
              " 'user_token_hooks',\n",
              " 'vector',\n",
              " 'vector_norm',\n",
              " 'vocab']"
            ]
          },
          "metadata": {},
          "execution_count": 57
        }
      ]
    },
    {
      "cell_type": "code",
      "source": [
        "try:\n",
        "    with open(r\"C:\\Users\\ab1201\\Downloads\\file\\file2.txt\", \"r\") as f:\n",
        "        result = f.readline()\n",
        "    print(result)\n",
        "except FileNotFoundError:\n",
        "    print(\"Error: File not found. Check the path and try again.\")\n",
        "except Exception as e:\n",
        "    print(f\"An unexpected error occurred: {e}\")\n"
      ],
      "metadata": {
        "colab": {
          "base_uri": "https://localhost:8080/"
        },
        "id": "iYK7Rv-Bp7C7",
        "outputId": "3afedbfa-ecda-4a34-d6ef-b041f9931842"
      },
      "execution_count": 63,
      "outputs": [
        {
          "output_type": "stream",
          "name": "stdout",
          "text": [
            "Error: File not found. Check the path and try again.\n"
          ]
        }
      ]
    }
  ],
  "metadata": {
    "colab": {
      "provenance": [],
      "authorship_tag": "ABX9TyP+uPcNBjxjz+mCD/cqnE56",
      "include_colab_link": true
    },
    "kernelspec": {
      "display_name": "Python 3",
      "name": "python3"
    },
    "language_info": {
      "name": "python"
    }
  },
  "nbformat": 4,
  "nbformat_minor": 0
}